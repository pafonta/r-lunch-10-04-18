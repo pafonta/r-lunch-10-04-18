{
 "cells": [
  {
   "cell_type": "markdown",
   "metadata": {},
   "source": [
    "## Setup\n",
    "\n",
    "**Install _conda_**\n",
    "\n",
    "wget https://repo.continuum.io/miniconda/Miniconda3-latest-Linux-x86_64.sh\n",
    "bash Miniconda3-latest-Linux-x86_64.sh\n",
    "\n",
    "**Update _conda_**\n",
    "\n",
    "conda update -n base conda\n",
    "\n",
    "**Create a virtual environment**\n",
    "\n",
    "conda create --name r-lunchs-10-04-18\n",
    "\n",
    "**Switch to the virtual environment**\n",
    "\n",
    "conda activate r-lunchs-10-04-18\n",
    "\n",
    "**Install _R_, _dplyr_, _tidyr_, _IRkernel_, and _Jupyter_**\n",
    "\n",
    "conda install r r-dplyr r-tidyr r-irkernel jupyter\n",
    "\n",
    "**Launch Jupyter**\n",
    "\n",
    "jupyter notebook"
   ]
  },
  {
   "cell_type": "code",
   "execution_count": 10,
   "metadata": {},
   "outputs": [],
   "source": [
    "library(dplyr)\n",
    "library(tidyr)\n",
    "library(tibble)"
   ]
  },
  {
   "cell_type": "markdown",
   "metadata": {},
   "source": [
    "## nycflights13"
   ]
  },
  {
   "cell_type": "code",
   "execution_count": 16,
   "metadata": {},
   "outputs": [],
   "source": [
    "# install.packages(\"nycflights13\")"
   ]
  },
  {
   "cell_type": "code",
   "execution_count": 17,
   "metadata": {},
   "outputs": [],
   "source": [
    "library(nycflights13)"
   ]
  },
  {
   "cell_type": "markdown",
   "metadata": {},
   "source": [
    "### Already a Tibble!"
   ]
  },
  {
   "cell_type": "code",
   "execution_count": 18,
   "metadata": {},
   "outputs": [
    {
     "data": {
      "text/html": [
       "<ol class=list-inline>\n",
       "\t<li>'tbl_df'</li>\n",
       "\t<li>'tbl'</li>\n",
       "\t<li>'data.frame'</li>\n",
       "</ol>\n"
      ],
      "text/latex": [
       "\\begin{enumerate*}\n",
       "\\item 'tbl\\_df'\n",
       "\\item 'tbl'\n",
       "\\item 'data.frame'\n",
       "\\end{enumerate*}\n"
      ],
      "text/markdown": [
       "1. 'tbl_df'\n",
       "2. 'tbl'\n",
       "3. 'data.frame'\n",
       "\n",
       "\n"
      ],
      "text/plain": [
       "[1] \"tbl_df\"     \"tbl\"        \"data.frame\""
      ]
     },
     "metadata": {},
     "output_type": "display_data"
    }
   ],
   "source": [
    "class(flights)"
   ]
  },
  {
   "cell_type": "code",
   "execution_count": 19,
   "metadata": {},
   "outputs": [
    {
     "data": {
      "text/html": [
       "TRUE"
      ],
      "text/latex": [
       "TRUE"
      ],
      "text/markdown": [
       "TRUE"
      ],
      "text/plain": [
       "[1] TRUE"
      ]
     },
     "metadata": {},
     "output_type": "display_data"
    }
   ],
   "source": [
    "is_tibble(flights)"
   ]
  },
  {
   "cell_type": "code",
   "execution_count": 26,
   "metadata": {},
   "outputs": [
    {
     "data": {
      "text/html": [
       "<table>\n",
       "<thead><tr><th scope=col>year</th><th scope=col>month</th><th scope=col>day</th><th scope=col>dep_time</th><th scope=col>sched_dep_time</th><th scope=col>dep_delay</th><th scope=col>arr_time</th><th scope=col>sched_arr_time</th><th scope=col>arr_delay</th><th scope=col>carrier</th><th scope=col>flight</th><th scope=col>tailnum</th><th scope=col>origin</th><th scope=col>dest</th><th scope=col>air_time</th><th scope=col>distance</th><th scope=col>hour</th><th scope=col>minute</th><th scope=col>time_hour</th></tr></thead>\n",
       "<tbody>\n",
       "\t<tr><td>2013               </td><td>1                  </td><td>1                  </td><td>517                </td><td>515                </td><td> 2                 </td><td> 830               </td><td> 819               </td><td> 11                </td><td>UA                 </td><td>1545               </td><td>N14228             </td><td>EWR                </td><td>IAH                </td><td>227                </td><td>1400               </td><td>5                  </td><td>15                 </td><td>2013-01-01 05:00:00</td></tr>\n",
       "\t<tr><td>2013               </td><td>1                  </td><td>1                  </td><td>533                </td><td>529                </td><td> 4                 </td><td> 850               </td><td> 830               </td><td> 20                </td><td>UA                 </td><td>1714               </td><td>N24211             </td><td>LGA                </td><td>IAH                </td><td>227                </td><td>1416               </td><td>5                  </td><td>29                 </td><td>2013-01-01 05:00:00</td></tr>\n",
       "\t<tr><td>2013               </td><td>1                  </td><td>1                  </td><td>542                </td><td>540                </td><td> 2                 </td><td> 923               </td><td> 850               </td><td> 33                </td><td>AA                 </td><td>1141               </td><td>N619AA             </td><td>JFK                </td><td>MIA                </td><td>160                </td><td>1089               </td><td>5                  </td><td>40                 </td><td>2013-01-01 05:00:00</td></tr>\n",
       "\t<tr><td>2013               </td><td>1                  </td><td>1                  </td><td>544                </td><td>545                </td><td>-1                 </td><td>1004               </td><td>1022               </td><td>-18                </td><td>B6                 </td><td> 725               </td><td>N804JB             </td><td>JFK                </td><td>BQN                </td><td>183                </td><td>1576               </td><td>5                  </td><td>45                 </td><td>2013-01-01 05:00:00</td></tr>\n",
       "\t<tr><td>2013               </td><td>1                  </td><td>1                  </td><td>554                </td><td>600                </td><td>-6                 </td><td> 812               </td><td> 837               </td><td>-25                </td><td>DL                 </td><td> 461               </td><td>N668DN             </td><td>LGA                </td><td>ATL                </td><td>116                </td><td> 762               </td><td>6                  </td><td> 0                 </td><td>2013-01-01 06:00:00</td></tr>\n",
       "\t<tr><td>2013               </td><td>1                  </td><td>1                  </td><td>554                </td><td>558                </td><td>-4                 </td><td> 740               </td><td> 728               </td><td> 12                </td><td>UA                 </td><td>1696               </td><td>N39463             </td><td>EWR                </td><td>ORD                </td><td>150                </td><td> 719               </td><td>5                  </td><td>58                 </td><td>2013-01-01 05:00:00</td></tr>\n",
       "</tbody>\n",
       "</table>\n"
      ],
      "text/latex": [
       "\\begin{tabular}{r|lllllllllllllllllll}\n",
       " year & month & day & dep\\_time & sched\\_dep\\_time & dep\\_delay & arr\\_time & sched\\_arr\\_time & arr\\_delay & carrier & flight & tailnum & origin & dest & air\\_time & distance & hour & minute & time\\_hour\\\\\n",
       "\\hline\n",
       "\t 2013                & 1                   & 1                   & 517                 & 515                 &  2                  &  830                &  819                &  11                 & UA                  & 1545                & N14228              & EWR                 & IAH                 & 227                 & 1400                & 5                   & 15                  & 2013-01-01 05:00:00\\\\\n",
       "\t 2013                & 1                   & 1                   & 533                 & 529                 &  4                  &  850                &  830                &  20                 & UA                  & 1714                & N24211              & LGA                 & IAH                 & 227                 & 1416                & 5                   & 29                  & 2013-01-01 05:00:00\\\\\n",
       "\t 2013                & 1                   & 1                   & 542                 & 540                 &  2                  &  923                &  850                &  33                 & AA                  & 1141                & N619AA              & JFK                 & MIA                 & 160                 & 1089                & 5                   & 40                  & 2013-01-01 05:00:00\\\\\n",
       "\t 2013                & 1                   & 1                   & 544                 & 545                 & -1                  & 1004                & 1022                & -18                 & B6                  &  725                & N804JB              & JFK                 & BQN                 & 183                 & 1576                & 5                   & 45                  & 2013-01-01 05:00:00\\\\\n",
       "\t 2013                & 1                   & 1                   & 554                 & 600                 & -6                  &  812                &  837                & -25                 & DL                  &  461                & N668DN              & LGA                 & ATL                 & 116                 &  762                & 6                   &  0                  & 2013-01-01 06:00:00\\\\\n",
       "\t 2013                & 1                   & 1                   & 554                 & 558                 & -4                  &  740                &  728                &  12                 & UA                  & 1696                & N39463              & EWR                 & ORD                 & 150                 &  719                & 5                   & 58                  & 2013-01-01 05:00:00\\\\\n",
       "\\end{tabular}\n"
      ],
      "text/markdown": [
       "\n",
       "year | month | day | dep_time | sched_dep_time | dep_delay | arr_time | sched_arr_time | arr_delay | carrier | flight | tailnum | origin | dest | air_time | distance | hour | minute | time_hour | \n",
       "|---|---|---|---|---|---|\n",
       "| 2013                | 1                   | 1                   | 517                 | 515                 |  2                  |  830                |  819                |  11                 | UA                  | 1545                | N14228              | EWR                 | IAH                 | 227                 | 1400                | 5                   | 15                  | 2013-01-01 05:00:00 | \n",
       "| 2013                | 1                   | 1                   | 533                 | 529                 |  4                  |  850                |  830                |  20                 | UA                  | 1714                | N24211              | LGA                 | IAH                 | 227                 | 1416                | 5                   | 29                  | 2013-01-01 05:00:00 | \n",
       "| 2013                | 1                   | 1                   | 542                 | 540                 |  2                  |  923                |  850                |  33                 | AA                  | 1141                | N619AA              | JFK                 | MIA                 | 160                 | 1089                | 5                   | 40                  | 2013-01-01 05:00:00 | \n",
       "| 2013                | 1                   | 1                   | 544                 | 545                 | -1                  | 1004                | 1022                | -18                 | B6                  |  725                | N804JB              | JFK                 | BQN                 | 183                 | 1576                | 5                   | 45                  | 2013-01-01 05:00:00 | \n",
       "| 2013                | 1                   | 1                   | 554                 | 600                 | -6                  |  812                |  837                | -25                 | DL                  |  461                | N668DN              | LGA                 | ATL                 | 116                 |  762                | 6                   |  0                  | 2013-01-01 06:00:00 | \n",
       "| 2013                | 1                   | 1                   | 554                 | 558                 | -4                  |  740                |  728                |  12                 | UA                  | 1696                | N39463              | EWR                 | ORD                 | 150                 |  719                | 5                   | 58                  | 2013-01-01 05:00:00 | \n",
       "\n",
       "\n"
      ],
      "text/plain": [
       "  year month day dep_time sched_dep_time dep_delay arr_time sched_arr_time\n",
       "1 2013 1     1   517      515             2         830      819          \n",
       "2 2013 1     1   533      529             4         850      830          \n",
       "3 2013 1     1   542      540             2         923      850          \n",
       "4 2013 1     1   544      545            -1        1004     1022          \n",
       "5 2013 1     1   554      600            -6         812      837          \n",
       "6 2013 1     1   554      558            -4         740      728          \n",
       "  arr_delay carrier flight tailnum origin dest air_time distance hour minute\n",
       "1  11       UA      1545   N14228  EWR    IAH  227      1400     5    15    \n",
       "2  20       UA      1714   N24211  LGA    IAH  227      1416     5    29    \n",
       "3  33       AA      1141   N619AA  JFK    MIA  160      1089     5    40    \n",
       "4 -18       B6       725   N804JB  JFK    BQN  183      1576     5    45    \n",
       "5 -25       DL       461   N668DN  LGA    ATL  116       762     6     0    \n",
       "6  12       UA      1696   N39463  EWR    ORD  150       719     5    58    \n",
       "  time_hour          \n",
       "1 2013-01-01 05:00:00\n",
       "2 2013-01-01 05:00:00\n",
       "3 2013-01-01 05:00:00\n",
       "4 2013-01-01 05:00:00\n",
       "5 2013-01-01 06:00:00\n",
       "6 2013-01-01 05:00:00"
      ]
     },
     "metadata": {},
     "output_type": "display_data"
    }
   ],
   "source": [
    "head(flights)"
   ]
  },
  {
   "cell_type": "code",
   "execution_count": 42,
   "metadata": {},
   "outputs": [
    {
     "data": {
      "text/html": [
       "<strong>A tibble:</strong> '336,776 x 19'"
      ],
      "text/latex": [
       "\\textbf{A tibble:} '336,776 x 19'"
      ],
      "text/markdown": [
       "**A tibble:** '336,776 x 19'"
      ],
      "text/plain": [
       "      A tibble \n",
       "\"336,776 x 19\" "
      ]
     },
     "metadata": {},
     "output_type": "display_data"
    }
   ],
   "source": [
    "tbl_sum(flights)"
   ]
  },
  {
   "cell_type": "code",
   "execution_count": 63,
   "metadata": {},
   "outputs": [
    {
     "data": {
      "text/html": [
       "<strong>A tibble:</strong> '328,521 x 19'"
      ],
      "text/latex": [
       "\\textbf{A tibble:} '328,521 x 19'"
      ],
      "text/markdown": [
       "**A tibble:** '328,521 x 19'"
      ],
      "text/plain": [
       "      A tibble \n",
       "\"328,521 x 19\" "
      ]
     },
     "metadata": {},
     "output_type": "display_data"
    }
   ],
   "source": [
    "tbl_sum(filter(flights, !is.na(dep_time)))"
   ]
  },
  {
   "cell_type": "markdown",
   "metadata": {},
   "source": [
    "### Ordering"
   ]
  },
  {
   "cell_type": "code",
   "execution_count": 39,
   "metadata": {},
   "outputs": [
    {
     "data": {
      "text/html": [
       "<table>\n",
       "<thead><tr><th scope=col>year</th><th scope=col>month</th><th scope=col>day</th><th scope=col>dep_time</th><th scope=col>sched_dep_time</th><th scope=col>dep_delay</th><th scope=col>arr_time</th><th scope=col>sched_arr_time</th><th scope=col>arr_delay</th><th scope=col>carrier</th><th scope=col>flight</th><th scope=col>tailnum</th><th scope=col>origin</th><th scope=col>dest</th><th scope=col>air_time</th><th scope=col>distance</th><th scope=col>hour</th><th scope=col>minute</th><th scope=col>time_hour</th></tr></thead>\n",
       "<tbody>\n",
       "\t<tr><td>2013               </td><td>10                 </td><td>30                 </td><td>2400               </td><td>2359               </td><td> 1                 </td><td>327                </td><td> 337               </td><td>-10                </td><td>B6                 </td><td> 839               </td><td>N661JB             </td><td>JFK                </td><td>BQN                </td><td>182                </td><td>1576               </td><td>23                 </td><td>59                 </td><td>2013-10-30 23:00:00</td></tr>\n",
       "\t<tr><td>2013               </td><td>11                 </td><td>27                 </td><td>2400               </td><td>2359               </td><td> 1                 </td><td>515                </td><td> 445               </td><td> 30                </td><td>B6                 </td><td> 745               </td><td>N629JB             </td><td>JFK                </td><td>PSE                </td><td>230                </td><td>1617               </td><td>23                 </td><td>59                 </td><td>2013-11-27 23:00:00</td></tr>\n",
       "\t<tr><td>2013               </td><td>12                 </td><td> 5                 </td><td>2400               </td><td>2359               </td><td> 1                 </td><td>427                </td><td> 440               </td><td>-13                </td><td>B6                 </td><td>1503               </td><td>N587JB             </td><td>JFK                </td><td>SJU                </td><td>182                </td><td>1598               </td><td>23                 </td><td>59                 </td><td>2013-12-05 23:00:00</td></tr>\n",
       "\t<tr><td>2013               </td><td>12                 </td><td> 9                 </td><td>2400               </td><td>2359               </td><td> 1                 </td><td>432                </td><td> 440               </td><td> -8                </td><td>B6                 </td><td>1503               </td><td>N705JB             </td><td>JFK                </td><td>SJU                </td><td>195                </td><td>1598               </td><td>23                 </td><td>59                 </td><td>2013-12-09 23:00:00</td></tr>\n",
       "\t<tr><td>2013               </td><td>12                 </td><td> 9                 </td><td>2400               </td><td>2250               </td><td>70                 </td><td> 59                </td><td>2356               </td><td> 63                </td><td>B6                 </td><td>1816               </td><td>N187JB             </td><td>JFK                </td><td>SYR                </td><td> 41                </td><td> 209               </td><td>22                 </td><td>50                 </td><td>2013-12-09 22:00:00</td></tr>\n",
       "\t<tr><td>2013               </td><td>12                 </td><td>13                 </td><td>2400               </td><td>2359               </td><td> 1                 </td><td>432                </td><td> 440               </td><td> -8                </td><td>B6                 </td><td>1503               </td><td>N587JB             </td><td>JFK                </td><td>SJU                </td><td>192                </td><td>1598               </td><td>23                 </td><td>59                 </td><td>2013-12-13 23:00:00</td></tr>\n",
       "</tbody>\n",
       "</table>\n"
      ],
      "text/latex": [
       "\\begin{tabular}{r|lllllllllllllllllll}\n",
       " year & month & day & dep\\_time & sched\\_dep\\_time & dep\\_delay & arr\\_time & sched\\_arr\\_time & arr\\_delay & carrier & flight & tailnum & origin & dest & air\\_time & distance & hour & minute & time\\_hour\\\\\n",
       "\\hline\n",
       "\t 2013                & 10                  & 30                  & 2400                & 2359                &  1                  & 327                 &  337                & -10                 & B6                  &  839                & N661JB              & JFK                 & BQN                 & 182                 & 1576                & 23                  & 59                  & 2013-10-30 23:00:00\\\\\n",
       "\t 2013                & 11                  & 27                  & 2400                & 2359                &  1                  & 515                 &  445                &  30                 & B6                  &  745                & N629JB              & JFK                 & PSE                 & 230                 & 1617                & 23                  & 59                  & 2013-11-27 23:00:00\\\\\n",
       "\t 2013                & 12                  &  5                  & 2400                & 2359                &  1                  & 427                 &  440                & -13                 & B6                  & 1503                & N587JB              & JFK                 & SJU                 & 182                 & 1598                & 23                  & 59                  & 2013-12-05 23:00:00\\\\\n",
       "\t 2013                & 12                  &  9                  & 2400                & 2359                &  1                  & 432                 &  440                &  -8                 & B6                  & 1503                & N705JB              & JFK                 & SJU                 & 195                 & 1598                & 23                  & 59                  & 2013-12-09 23:00:00\\\\\n",
       "\t 2013                & 12                  &  9                  & 2400                & 2250                & 70                  &  59                 & 2356                &  63                 & B6                  & 1816                & N187JB              & JFK                 & SYR                 &  41                 &  209                & 22                  & 50                  & 2013-12-09 22:00:00\\\\\n",
       "\t 2013                & 12                  & 13                  & 2400                & 2359                &  1                  & 432                 &  440                &  -8                 & B6                  & 1503                & N587JB              & JFK                 & SJU                 & 192                 & 1598                & 23                  & 59                  & 2013-12-13 23:00:00\\\\\n",
       "\\end{tabular}\n"
      ],
      "text/markdown": [
       "\n",
       "year | month | day | dep_time | sched_dep_time | dep_delay | arr_time | sched_arr_time | arr_delay | carrier | flight | tailnum | origin | dest | air_time | distance | hour | minute | time_hour | \n",
       "|---|---|---|---|---|---|\n",
       "| 2013                | 10                  | 30                  | 2400                | 2359                |  1                  | 327                 |  337                | -10                 | B6                  |  839                | N661JB              | JFK                 | BQN                 | 182                 | 1576                | 23                  | 59                  | 2013-10-30 23:00:00 | \n",
       "| 2013                | 11                  | 27                  | 2400                | 2359                |  1                  | 515                 |  445                |  30                 | B6                  |  745                | N629JB              | JFK                 | PSE                 | 230                 | 1617                | 23                  | 59                  | 2013-11-27 23:00:00 | \n",
       "| 2013                | 12                  |  5                  | 2400                | 2359                |  1                  | 427                 |  440                | -13                 | B6                  | 1503                | N587JB              | JFK                 | SJU                 | 182                 | 1598                | 23                  | 59                  | 2013-12-05 23:00:00 | \n",
       "| 2013                | 12                  |  9                  | 2400                | 2359                |  1                  | 432                 |  440                |  -8                 | B6                  | 1503                | N705JB              | JFK                 | SJU                 | 195                 | 1598                | 23                  | 59                  | 2013-12-09 23:00:00 | \n",
       "| 2013                | 12                  |  9                  | 2400                | 2250                | 70                  |  59                 | 2356                |  63                 | B6                  | 1816                | N187JB              | JFK                 | SYR                 |  41                 |  209                | 22                  | 50                  | 2013-12-09 22:00:00 | \n",
       "| 2013                | 12                  | 13                  | 2400                | 2359                |  1                  | 432                 |  440                |  -8                 | B6                  | 1503                | N587JB              | JFK                 | SJU                 | 192                 | 1598                | 23                  | 59                  | 2013-12-13 23:00:00 | \n",
       "\n",
       "\n"
      ],
      "text/plain": [
       "  year month day dep_time sched_dep_time dep_delay arr_time sched_arr_time\n",
       "1 2013 10    30  2400     2359            1        327       337          \n",
       "2 2013 11    27  2400     2359            1        515       445          \n",
       "3 2013 12     5  2400     2359            1        427       440          \n",
       "4 2013 12     9  2400     2359            1        432       440          \n",
       "5 2013 12     9  2400     2250           70         59      2356          \n",
       "6 2013 12    13  2400     2359            1        432       440          \n",
       "  arr_delay carrier flight tailnum origin dest air_time distance hour minute\n",
       "1 -10       B6       839   N661JB  JFK    BQN  182      1576     23   59    \n",
       "2  30       B6       745   N629JB  JFK    PSE  230      1617     23   59    \n",
       "3 -13       B6      1503   N587JB  JFK    SJU  182      1598     23   59    \n",
       "4  -8       B6      1503   N705JB  JFK    SJU  195      1598     23   59    \n",
       "5  63       B6      1816   N187JB  JFK    SYR   41       209     22   50    \n",
       "6  -8       B6      1503   N587JB  JFK    SJU  192      1598     23   59    \n",
       "  time_hour          \n",
       "1 2013-10-30 23:00:00\n",
       "2 2013-11-27 23:00:00\n",
       "3 2013-12-05 23:00:00\n",
       "4 2013-12-09 23:00:00\n",
       "5 2013-12-09 22:00:00\n",
       "6 2013-12-13 23:00:00"
      ]
     },
     "metadata": {},
     "output_type": "display_data"
    }
   ],
   "source": [
    "head(\n",
    "    arrange(flights, desc(dep_time)))"
   ]
  },
  {
   "cell_type": "code",
   "execution_count": 53,
   "metadata": {},
   "outputs": [],
   "source": [
    "flights_md = arrange(flights, month, day)"
   ]
  },
  {
   "cell_type": "code",
   "execution_count": 58,
   "metadata": {},
   "outputs": [
    {
     "data": {
      "text/html": [
       "<table>\n",
       "<thead><tr><th scope=col>year</th><th scope=col>month</th><th scope=col>day</th><th scope=col>dep_time</th><th scope=col>sched_dep_time</th><th scope=col>dep_delay</th><th scope=col>arr_time</th><th scope=col>sched_arr_time</th><th scope=col>arr_delay</th><th scope=col>carrier</th><th scope=col>flight</th><th scope=col>tailnum</th><th scope=col>origin</th><th scope=col>dest</th><th scope=col>air_time</th><th scope=col>distance</th><th scope=col>hour</th><th scope=col>minute</th><th scope=col>time_hour</th></tr></thead>\n",
       "<tbody>\n",
       "\t<tr><td>2013               </td><td>1                  </td><td>1                  </td><td>517                </td><td>515                </td><td> 2                 </td><td> 830               </td><td> 819               </td><td> 11                </td><td>UA                 </td><td>1545               </td><td>N14228             </td><td>EWR                </td><td>IAH                </td><td>227                </td><td>1400               </td><td>5                  </td><td>15                 </td><td>2013-01-01 05:00:00</td></tr>\n",
       "\t<tr><td>2013               </td><td>1                  </td><td>1                  </td><td>533                </td><td>529                </td><td> 4                 </td><td> 850               </td><td> 830               </td><td> 20                </td><td>UA                 </td><td>1714               </td><td>N24211             </td><td>LGA                </td><td>IAH                </td><td>227                </td><td>1416               </td><td>5                  </td><td>29                 </td><td>2013-01-01 05:00:00</td></tr>\n",
       "\t<tr><td>2013               </td><td>1                  </td><td>1                  </td><td>542                </td><td>540                </td><td> 2                 </td><td> 923               </td><td> 850               </td><td> 33                </td><td>AA                 </td><td>1141               </td><td>N619AA             </td><td>JFK                </td><td>MIA                </td><td>160                </td><td>1089               </td><td>5                  </td><td>40                 </td><td>2013-01-01 05:00:00</td></tr>\n",
       "\t<tr><td>2013               </td><td>1                  </td><td>1                  </td><td>544                </td><td>545                </td><td>-1                 </td><td>1004               </td><td>1022               </td><td>-18                </td><td>B6                 </td><td> 725               </td><td>N804JB             </td><td>JFK                </td><td>BQN                </td><td>183                </td><td>1576               </td><td>5                  </td><td>45                 </td><td>2013-01-01 05:00:00</td></tr>\n",
       "\t<tr><td>2013               </td><td>1                  </td><td>1                  </td><td>554                </td><td>600                </td><td>-6                 </td><td> 812               </td><td> 837               </td><td>-25                </td><td>DL                 </td><td> 461               </td><td>N668DN             </td><td>LGA                </td><td>ATL                </td><td>116                </td><td> 762               </td><td>6                  </td><td> 0                 </td><td>2013-01-01 06:00:00</td></tr>\n",
       "\t<tr><td>2013               </td><td>1                  </td><td>1                  </td><td>554                </td><td>558                </td><td>-4                 </td><td> 740               </td><td> 728               </td><td> 12                </td><td>UA                 </td><td>1696               </td><td>N39463             </td><td>EWR                </td><td>ORD                </td><td>150                </td><td> 719               </td><td>5                  </td><td>58                 </td><td>2013-01-01 05:00:00</td></tr>\n",
       "</tbody>\n",
       "</table>\n"
      ],
      "text/latex": [
       "\\begin{tabular}{r|lllllllllllllllllll}\n",
       " year & month & day & dep\\_time & sched\\_dep\\_time & dep\\_delay & arr\\_time & sched\\_arr\\_time & arr\\_delay & carrier & flight & tailnum & origin & dest & air\\_time & distance & hour & minute & time\\_hour\\\\\n",
       "\\hline\n",
       "\t 2013                & 1                   & 1                   & 517                 & 515                 &  2                  &  830                &  819                &  11                 & UA                  & 1545                & N14228              & EWR                 & IAH                 & 227                 & 1400                & 5                   & 15                  & 2013-01-01 05:00:00\\\\\n",
       "\t 2013                & 1                   & 1                   & 533                 & 529                 &  4                  &  850                &  830                &  20                 & UA                  & 1714                & N24211              & LGA                 & IAH                 & 227                 & 1416                & 5                   & 29                  & 2013-01-01 05:00:00\\\\\n",
       "\t 2013                & 1                   & 1                   & 542                 & 540                 &  2                  &  923                &  850                &  33                 & AA                  & 1141                & N619AA              & JFK                 & MIA                 & 160                 & 1089                & 5                   & 40                  & 2013-01-01 05:00:00\\\\\n",
       "\t 2013                & 1                   & 1                   & 544                 & 545                 & -1                  & 1004                & 1022                & -18                 & B6                  &  725                & N804JB              & JFK                 & BQN                 & 183                 & 1576                & 5                   & 45                  & 2013-01-01 05:00:00\\\\\n",
       "\t 2013                & 1                   & 1                   & 554                 & 600                 & -6                  &  812                &  837                & -25                 & DL                  &  461                & N668DN              & LGA                 & ATL                 & 116                 &  762                & 6                   &  0                  & 2013-01-01 06:00:00\\\\\n",
       "\t 2013                & 1                   & 1                   & 554                 & 558                 & -4                  &  740                &  728                &  12                 & UA                  & 1696                & N39463              & EWR                 & ORD                 & 150                 &  719                & 5                   & 58                  & 2013-01-01 05:00:00\\\\\n",
       "\\end{tabular}\n"
      ],
      "text/markdown": [
       "\n",
       "year | month | day | dep_time | sched_dep_time | dep_delay | arr_time | sched_arr_time | arr_delay | carrier | flight | tailnum | origin | dest | air_time | distance | hour | minute | time_hour | \n",
       "|---|---|---|---|---|---|\n",
       "| 2013                | 1                   | 1                   | 517                 | 515                 |  2                  |  830                |  819                |  11                 | UA                  | 1545                | N14228              | EWR                 | IAH                 | 227                 | 1400                | 5                   | 15                  | 2013-01-01 05:00:00 | \n",
       "| 2013                | 1                   | 1                   | 533                 | 529                 |  4                  |  850                |  830                |  20                 | UA                  | 1714                | N24211              | LGA                 | IAH                 | 227                 | 1416                | 5                   | 29                  | 2013-01-01 05:00:00 | \n",
       "| 2013                | 1                   | 1                   | 542                 | 540                 |  2                  |  923                |  850                |  33                 | AA                  | 1141                | N619AA              | JFK                 | MIA                 | 160                 | 1089                | 5                   | 40                  | 2013-01-01 05:00:00 | \n",
       "| 2013                | 1                   | 1                   | 544                 | 545                 | -1                  | 1004                | 1022                | -18                 | B6                  |  725                | N804JB              | JFK                 | BQN                 | 183                 | 1576                | 5                   | 45                  | 2013-01-01 05:00:00 | \n",
       "| 2013                | 1                   | 1                   | 554                 | 600                 | -6                  |  812                |  837                | -25                 | DL                  |  461                | N668DN              | LGA                 | ATL                 | 116                 |  762                | 6                   |  0                  | 2013-01-01 06:00:00 | \n",
       "| 2013                | 1                   | 1                   | 554                 | 558                 | -4                  |  740                |  728                |  12                 | UA                  | 1696                | N39463              | EWR                 | ORD                 | 150                 |  719                | 5                   | 58                  | 2013-01-01 05:00:00 | \n",
       "\n",
       "\n"
      ],
      "text/plain": [
       "  year month day dep_time sched_dep_time dep_delay arr_time sched_arr_time\n",
       "1 2013 1     1   517      515             2         830      819          \n",
       "2 2013 1     1   533      529             4         850      830          \n",
       "3 2013 1     1   542      540             2         923      850          \n",
       "4 2013 1     1   544      545            -1        1004     1022          \n",
       "5 2013 1     1   554      600            -6         812      837          \n",
       "6 2013 1     1   554      558            -4         740      728          \n",
       "  arr_delay carrier flight tailnum origin dest air_time distance hour minute\n",
       "1  11       UA      1545   N14228  EWR    IAH  227      1400     5    15    \n",
       "2  20       UA      1714   N24211  LGA    IAH  227      1416     5    29    \n",
       "3  33       AA      1141   N619AA  JFK    MIA  160      1089     5    40    \n",
       "4 -18       B6       725   N804JB  JFK    BQN  183      1576     5    45    \n",
       "5 -25       DL       461   N668DN  LGA    ATL  116       762     6     0    \n",
       "6  12       UA      1696   N39463  EWR    ORD  150       719     5    58    \n",
       "  time_hour          \n",
       "1 2013-01-01 05:00:00\n",
       "2 2013-01-01 05:00:00\n",
       "3 2013-01-01 05:00:00\n",
       "4 2013-01-01 05:00:00\n",
       "5 2013-01-01 06:00:00\n",
       "6 2013-01-01 05:00:00"
      ]
     },
     "metadata": {},
     "output_type": "display_data"
    }
   ],
   "source": [
    "head(flights_md)"
   ]
  },
  {
   "cell_type": "markdown",
   "metadata": {},
   "source": [
    "### Subsetting"
   ]
  },
  {
   "cell_type": "code",
   "execution_count": 59,
   "metadata": {},
   "outputs": [
    {
     "data": {
      "text/html": [
       "<table>\n",
       "<thead><tr><th scope=col>year</th><th scope=col>month</th><th scope=col>day</th><th scope=col>dep_time</th><th scope=col>sched_dep_time</th><th scope=col>dep_delay</th><th scope=col>arr_time</th><th scope=col>sched_arr_time</th><th scope=col>arr_delay</th><th scope=col>carrier</th><th scope=col>flight</th><th scope=col>tailnum</th><th scope=col>origin</th><th scope=col>dest</th><th scope=col>air_time</th><th scope=col>distance</th><th scope=col>hour</th><th scope=col>minute</th><th scope=col>time_hour</th></tr></thead>\n",
       "<tbody>\n",
       "\t<tr><td>2013               </td><td>2                  </td><td>3                  </td><td>536                </td><td>540                </td><td>-4                 </td><td> 927               </td><td> 850               </td><td>37                 </td><td>AA                 </td><td>1141               </td><td>N5EBAA             </td><td>JFK                </td><td>MIA                </td><td>164                </td><td>1089               </td><td>5                  </td><td>40                 </td><td>2013-02-03 05:00:00</td></tr>\n",
       "\t<tr><td>2013               </td><td>2                  </td><td>3                  </td><td>758                </td><td>800                </td><td>-2                 </td><td>1138               </td><td>1124               </td><td>14                 </td><td>DL                 </td><td>2143               </td><td>N339NW             </td><td>JFK                </td><td>MIA                </td><td>149                </td><td>1089               </td><td>8                  </td><td> 0                 </td><td>2013-02-03 08:00:00</td></tr>\n",
       "\t<tr><td>2013               </td><td>2                  </td><td>3                  </td><td>825                </td><td>810                </td><td>15                 </td><td>1048               </td><td> 955               </td><td>53                 </td><td>MQ                 </td><td>4406               </td><td>N828MQ             </td><td>JFK                </td><td>RDU                </td><td> 74                </td><td> 427               </td><td>8                  </td><td>10                 </td><td>2013-02-03 08:00:00</td></tr>\n",
       "\t<tr><td>2013               </td><td>2                  </td><td>3                  </td><td>844                </td><td>715                </td><td>89                 </td><td>1210               </td><td>1045               </td><td>85                 </td><td>AA                 </td><td> 443               </td><td>N319AA             </td><td>JFK                </td><td>MIA                </td><td>156                </td><td>1089               </td><td>7                  </td><td>15                 </td><td>2013-02-03 07:00:00</td></tr>\n",
       "\t<tr><td>2013               </td><td>2                  </td><td>3                  </td><td>912                </td><td>915                </td><td>-3                 </td><td>1134               </td><td>1101               </td><td>33                 </td><td>B6                 </td><td>1103               </td><td>N178JB             </td><td>JFK                </td><td>RDU                </td><td> 71                </td><td> 427               </td><td>9                  </td><td>15                 </td><td>2013-02-03 09:00:00</td></tr>\n",
       "\t<tr><td>2013               </td><td>2                  </td><td>3                  </td><td>917                </td><td>900                </td><td>17                 </td><td>1235               </td><td>1220               </td><td>15                 </td><td>AA                 </td><td> 647               </td><td>N5CEAA             </td><td>JFK                </td><td>MIA                </td><td>154                </td><td>1089               </td><td>9                  </td><td> 0                 </td><td>2013-02-03 09:00:00</td></tr>\n",
       "</tbody>\n",
       "</table>\n"
      ],
      "text/latex": [
       "\\begin{tabular}{r|lllllllllllllllllll}\n",
       " year & month & day & dep\\_time & sched\\_dep\\_time & dep\\_delay & arr\\_time & sched\\_arr\\_time & arr\\_delay & carrier & flight & tailnum & origin & dest & air\\_time & distance & hour & minute & time\\_hour\\\\\n",
       "\\hline\n",
       "\t 2013                & 2                   & 3                   & 536                 & 540                 & -4                  &  927                &  850                & 37                  & AA                  & 1141                & N5EBAA              & JFK                 & MIA                 & 164                 & 1089                & 5                   & 40                  & 2013-02-03 05:00:00\\\\\n",
       "\t 2013                & 2                   & 3                   & 758                 & 800                 & -2                  & 1138                & 1124                & 14                  & DL                  & 2143                & N339NW              & JFK                 & MIA                 & 149                 & 1089                & 8                   &  0                  & 2013-02-03 08:00:00\\\\\n",
       "\t 2013                & 2                   & 3                   & 825                 & 810                 & 15                  & 1048                &  955                & 53                  & MQ                  & 4406                & N828MQ              & JFK                 & RDU                 &  74                 &  427                & 8                   & 10                  & 2013-02-03 08:00:00\\\\\n",
       "\t 2013                & 2                   & 3                   & 844                 & 715                 & 89                  & 1210                & 1045                & 85                  & AA                  &  443                & N319AA              & JFK                 & MIA                 & 156                 & 1089                & 7                   & 15                  & 2013-02-03 07:00:00\\\\\n",
       "\t 2013                & 2                   & 3                   & 912                 & 915                 & -3                  & 1134                & 1101                & 33                  & B6                  & 1103                & N178JB              & JFK                 & RDU                 &  71                 &  427                & 9                   & 15                  & 2013-02-03 09:00:00\\\\\n",
       "\t 2013                & 2                   & 3                   & 917                 & 900                 & 17                  & 1235                & 1220                & 15                  & AA                  &  647                & N5CEAA              & JFK                 & MIA                 & 154                 & 1089                & 9                   &  0                  & 2013-02-03 09:00:00\\\\\n",
       "\\end{tabular}\n"
      ],
      "text/markdown": [
       "\n",
       "year | month | day | dep_time | sched_dep_time | dep_delay | arr_time | sched_arr_time | arr_delay | carrier | flight | tailnum | origin | dest | air_time | distance | hour | minute | time_hour | \n",
       "|---|---|---|---|---|---|\n",
       "| 2013                | 2                   | 3                   | 536                 | 540                 | -4                  |  927                |  850                | 37                  | AA                  | 1141                | N5EBAA              | JFK                 | MIA                 | 164                 | 1089                | 5                   | 40                  | 2013-02-03 05:00:00 | \n",
       "| 2013                | 2                   | 3                   | 758                 | 800                 | -2                  | 1138                | 1124                | 14                  | DL                  | 2143                | N339NW              | JFK                 | MIA                 | 149                 | 1089                | 8                   |  0                  | 2013-02-03 08:00:00 | \n",
       "| 2013                | 2                   | 3                   | 825                 | 810                 | 15                  | 1048                |  955                | 53                  | MQ                  | 4406                | N828MQ              | JFK                 | RDU                 |  74                 |  427                | 8                   | 10                  | 2013-02-03 08:00:00 | \n",
       "| 2013                | 2                   | 3                   | 844                 | 715                 | 89                  | 1210                | 1045                | 85                  | AA                  |  443                | N319AA              | JFK                 | MIA                 | 156                 | 1089                | 7                   | 15                  | 2013-02-03 07:00:00 | \n",
       "| 2013                | 2                   | 3                   | 912                 | 915                 | -3                  | 1134                | 1101                | 33                  | B6                  | 1103                | N178JB              | JFK                 | RDU                 |  71                 |  427                | 9                   | 15                  | 2013-02-03 09:00:00 | \n",
       "| 2013                | 2                   | 3                   | 917                 | 900                 | 17                  | 1235                | 1220                | 15                  | AA                  |  647                | N5CEAA              | JFK                 | MIA                 | 154                 | 1089                | 9                   |  0                  | 2013-02-03 09:00:00 | \n",
       "\n",
       "\n"
      ],
      "text/plain": [
       "  year month day dep_time sched_dep_time dep_delay arr_time sched_arr_time\n",
       "1 2013 2     3   536      540            -4         927      850          \n",
       "2 2013 2     3   758      800            -2        1138     1124          \n",
       "3 2013 2     3   825      810            15        1048      955          \n",
       "4 2013 2     3   844      715            89        1210     1045          \n",
       "5 2013 2     3   912      915            -3        1134     1101          \n",
       "6 2013 2     3   917      900            17        1235     1220          \n",
       "  arr_delay carrier flight tailnum origin dest air_time distance hour minute\n",
       "1 37        AA      1141   N5EBAA  JFK    MIA  164      1089     5    40    \n",
       "2 14        DL      2143   N339NW  JFK    MIA  149      1089     8     0    \n",
       "3 53        MQ      4406   N828MQ  JFK    RDU   74       427     8    10    \n",
       "4 85        AA       443   N319AA  JFK    MIA  156      1089     7    15    \n",
       "5 33        B6      1103   N178JB  JFK    RDU   71       427     9    15    \n",
       "6 15        AA       647   N5CEAA  JFK    MIA  154      1089     9     0    \n",
       "  time_hour          \n",
       "1 2013-02-03 05:00:00\n",
       "2 2013-02-03 08:00:00\n",
       "3 2013-02-03 08:00:00\n",
       "4 2013-02-03 07:00:00\n",
       "5 2013-02-03 09:00:00\n",
       "6 2013-02-03 09:00:00"
      ]
     },
     "metadata": {},
     "output_type": "display_data"
    }
   ],
   "source": [
    "head(\n",
    "    filter(flights_md,\n",
    "           month == 2\n",
    "           & day == 3\n",
    "           & origin == \"JFK\"\n",
    "           & (dest == \"MIA\" | dest == \"RDU\")))"
   ]
  },
  {
   "cell_type": "code",
   "execution_count": 60,
   "metadata": {},
   "outputs": [
    {
     "data": {
      "text/html": [
       "<table>\n",
       "<thead><tr><th scope=col>year</th><th scope=col>month</th><th scope=col>day</th><th scope=col>dep_time</th><th scope=col>sched_dep_time</th><th scope=col>dep_delay</th><th scope=col>arr_time</th><th scope=col>sched_arr_time</th><th scope=col>arr_delay</th><th scope=col>carrier</th><th scope=col>flight</th><th scope=col>tailnum</th><th scope=col>origin</th><th scope=col>dest</th><th scope=col>air_time</th><th scope=col>distance</th><th scope=col>hour</th><th scope=col>minute</th><th scope=col>time_hour</th></tr></thead>\n",
       "<tbody>\n",
       "\t<tr><td>2013               </td><td>1                  </td><td>1                  </td><td>517                </td><td>515                </td><td> 2                 </td><td> 830               </td><td> 819               </td><td> 11                </td><td>UA                 </td><td>1545               </td><td>N14228             </td><td>EWR                </td><td>IAH                </td><td>227                </td><td>1400               </td><td>5                  </td><td>15                 </td><td>2013-01-01 05:00:00</td></tr>\n",
       "\t<tr><td>2013               </td><td>1                  </td><td>1                  </td><td>533                </td><td>529                </td><td> 4                 </td><td> 850               </td><td> 830               </td><td> 20                </td><td>UA                 </td><td>1714               </td><td>N24211             </td><td>LGA                </td><td>IAH                </td><td>227                </td><td>1416               </td><td>5                  </td><td>29                 </td><td>2013-01-01 05:00:00</td></tr>\n",
       "\t<tr><td>2013               </td><td>1                  </td><td>1                  </td><td>542                </td><td>540                </td><td> 2                 </td><td> 923               </td><td> 850               </td><td> 33                </td><td>AA                 </td><td>1141               </td><td>N619AA             </td><td>JFK                </td><td>MIA                </td><td>160                </td><td>1089               </td><td>5                  </td><td>40                 </td><td>2013-01-01 05:00:00</td></tr>\n",
       "\t<tr><td>2013               </td><td>1                  </td><td>1                  </td><td>544                </td><td>545                </td><td>-1                 </td><td>1004               </td><td>1022               </td><td>-18                </td><td>B6                 </td><td> 725               </td><td>N804JB             </td><td>JFK                </td><td>BQN                </td><td>183                </td><td>1576               </td><td>5                  </td><td>45                 </td><td>2013-01-01 05:00:00</td></tr>\n",
       "\t<tr><td>2013               </td><td>1                  </td><td>1                  </td><td>554                </td><td>600                </td><td>-6                 </td><td> 812               </td><td> 837               </td><td>-25                </td><td>DL                 </td><td> 461               </td><td>N668DN             </td><td>LGA                </td><td>ATL                </td><td>116                </td><td> 762               </td><td>6                  </td><td> 0                 </td><td>2013-01-01 06:00:00</td></tr>\n",
       "</tbody>\n",
       "</table>\n"
      ],
      "text/latex": [
       "\\begin{tabular}{r|lllllllllllllllllll}\n",
       " year & month & day & dep\\_time & sched\\_dep\\_time & dep\\_delay & arr\\_time & sched\\_arr\\_time & arr\\_delay & carrier & flight & tailnum & origin & dest & air\\_time & distance & hour & minute & time\\_hour\\\\\n",
       "\\hline\n",
       "\t 2013                & 1                   & 1                   & 517                 & 515                 &  2                  &  830                &  819                &  11                 & UA                  & 1545                & N14228              & EWR                 & IAH                 & 227                 & 1400                & 5                   & 15                  & 2013-01-01 05:00:00\\\\\n",
       "\t 2013                & 1                   & 1                   & 533                 & 529                 &  4                  &  850                &  830                &  20                 & UA                  & 1714                & N24211              & LGA                 & IAH                 & 227                 & 1416                & 5                   & 29                  & 2013-01-01 05:00:00\\\\\n",
       "\t 2013                & 1                   & 1                   & 542                 & 540                 &  2                  &  923                &  850                &  33                 & AA                  & 1141                & N619AA              & JFK                 & MIA                 & 160                 & 1089                & 5                   & 40                  & 2013-01-01 05:00:00\\\\\n",
       "\t 2013                & 1                   & 1                   & 544                 & 545                 & -1                  & 1004                & 1022                & -18                 & B6                  &  725                & N804JB              & JFK                 & BQN                 & 183                 & 1576                & 5                   & 45                  & 2013-01-01 05:00:00\\\\\n",
       "\t 2013                & 1                   & 1                   & 554                 & 600                 & -6                  &  812                &  837                & -25                 & DL                  &  461                & N668DN              & LGA                 & ATL                 & 116                 &  762                & 6                   &  0                  & 2013-01-01 06:00:00\\\\\n",
       "\\end{tabular}\n"
      ],
      "text/markdown": [
       "\n",
       "year | month | day | dep_time | sched_dep_time | dep_delay | arr_time | sched_arr_time | arr_delay | carrier | flight | tailnum | origin | dest | air_time | distance | hour | minute | time_hour | \n",
       "|---|---|---|---|---|\n",
       "| 2013                | 1                   | 1                   | 517                 | 515                 |  2                  |  830                |  819                |  11                 | UA                  | 1545                | N14228              | EWR                 | IAH                 | 227                 | 1400                | 5                   | 15                  | 2013-01-01 05:00:00 | \n",
       "| 2013                | 1                   | 1                   | 533                 | 529                 |  4                  |  850                |  830                |  20                 | UA                  | 1714                | N24211              | LGA                 | IAH                 | 227                 | 1416                | 5                   | 29                  | 2013-01-01 05:00:00 | \n",
       "| 2013                | 1                   | 1                   | 542                 | 540                 |  2                  |  923                |  850                |  33                 | AA                  | 1141                | N619AA              | JFK                 | MIA                 | 160                 | 1089                | 5                   | 40                  | 2013-01-01 05:00:00 | \n",
       "| 2013                | 1                   | 1                   | 544                 | 545                 | -1                  | 1004                | 1022                | -18                 | B6                  |  725                | N804JB              | JFK                 | BQN                 | 183                 | 1576                | 5                   | 45                  | 2013-01-01 05:00:00 | \n",
       "| 2013                | 1                   | 1                   | 554                 | 600                 | -6                  |  812                |  837                | -25                 | DL                  |  461                | N668DN              | LGA                 | ATL                 | 116                 |  762                | 6                   |  0                  | 2013-01-01 06:00:00 | \n",
       "\n",
       "\n"
      ],
      "text/plain": [
       "  year month day dep_time sched_dep_time dep_delay arr_time sched_arr_time\n",
       "1 2013 1     1   517      515             2         830      819          \n",
       "2 2013 1     1   533      529             4         850      830          \n",
       "3 2013 1     1   542      540             2         923      850          \n",
       "4 2013 1     1   544      545            -1        1004     1022          \n",
       "5 2013 1     1   554      600            -6         812      837          \n",
       "  arr_delay carrier flight tailnum origin dest air_time distance hour minute\n",
       "1  11       UA      1545   N14228  EWR    IAH  227      1400     5    15    \n",
       "2  20       UA      1714   N24211  LGA    IAH  227      1416     5    29    \n",
       "3  33       AA      1141   N619AA  JFK    MIA  160      1089     5    40    \n",
       "4 -18       B6       725   N804JB  JFK    BQN  183      1576     5    45    \n",
       "5 -25       DL       461   N668DN  LGA    ATL  116       762     6     0    \n",
       "  time_hour          \n",
       "1 2013-01-01 05:00:00\n",
       "2 2013-01-01 05:00:00\n",
       "3 2013-01-01 05:00:00\n",
       "4 2013-01-01 05:00:00\n",
       "5 2013-01-01 06:00:00"
      ]
     },
     "metadata": {},
     "output_type": "display_data"
    }
   ],
   "source": [
    "flights_md[1:5,]"
   ]
  },
  {
   "cell_type": "code",
   "execution_count": 65,
   "metadata": {},
   "outputs": [
    {
     "data": {
      "text/html": [
       "<strong>A tibble:</strong> '8,255 x 19'"
      ],
      "text/latex": [
       "\\textbf{A tibble:} '8,255 x 19'"
      ],
      "text/markdown": [
       "**A tibble:** '8,255 x 19'"
      ],
      "text/plain": [
       "    A tibble \n",
       "\"8,255 x 19\" "
      ]
     },
     "metadata": {},
     "output_type": "display_data"
    }
   ],
   "source": [
    "tbl_sum(filter(flights, is.na(dep_time)))"
   ]
  },
  {
   "cell_type": "markdown",
   "metadata": {},
   "source": [
    "### Column operations"
   ]
  },
  {
   "cell_type": "code",
   "execution_count": 74,
   "metadata": {},
   "outputs": [
    {
     "data": {
      "text/html": [
       "<ol class=list-inline>\n",
       "\t<li>800</li>\n",
       "\t<li>917</li>\n",
       "\t<li>1240</li>\n",
       "\t<li>1449</li>\n",
       "\t<li>1743</li>\n",
       "\t<li>1800</li>\n",
       "\t<li>1928</li>\n",
       "\t<li>2050</li>\n",
       "\t<li>2209</li>\n",
       "</ol>\n"
      ],
      "text/latex": [
       "\\begin{enumerate*}\n",
       "\\item 800\n",
       "\\item 917\n",
       "\\item 1240\n",
       "\\item 1449\n",
       "\\item 1743\n",
       "\\item 1800\n",
       "\\item 1928\n",
       "\\item 2050\n",
       "\\item 2209\n",
       "\\end{enumerate*}\n"
      ],
      "text/markdown": [
       "1. 800\n",
       "2. 917\n",
       "3. 1240\n",
       "4. 1449\n",
       "5. 1743\n",
       "6. 1800\n",
       "7. 1928\n",
       "8. 2050\n",
       "9. 2209\n",
       "\n",
       "\n"
      ],
      "text/plain": [
       "[1]  800  917 1240 1449 1743 1800 1928 2050 2209"
      ]
     },
     "metadata": {},
     "output_type": "display_data"
    }
   ],
   "source": [
    "flights_md %>%\n",
    "    filter(month == 1 & day == 1 & origin == \"JFK\" &  dest == \"RDU\") %>%\n",
    "    pull(dep_time)"
   ]
  },
  {
   "cell_type": "code",
   "execution_count": 75,
   "metadata": {},
   "outputs": [
    {
     "data": {
      "text/html": [
       "<ol class=list-inline>\n",
       "\t<li>517</li>\n",
       "\t<li>533</li>\n",
       "\t<li>542</li>\n",
       "\t<li>544</li>\n",
       "\t<li>554</li>\n",
       "\t<li>554</li>\n",
       "</ol>\n"
      ],
      "text/latex": [
       "\\begin{enumerate*}\n",
       "\\item 517\n",
       "\\item 533\n",
       "\\item 542\n",
       "\\item 544\n",
       "\\item 554\n",
       "\\item 554\n",
       "\\end{enumerate*}\n"
      ],
      "text/markdown": [
       "1. 517\n",
       "2. 533\n",
       "3. 542\n",
       "4. 544\n",
       "5. 554\n",
       "6. 554\n",
       "\n",
       "\n"
      ],
      "text/plain": [
       "[1] 517 533 542 544 554 554"
      ]
     },
     "metadata": {},
     "output_type": "display_data"
    }
   ],
   "source": [
    "head(\n",
    "    pull(flights, dep_time))"
   ]
  },
  {
   "cell_type": "code",
   "execution_count": 76,
   "metadata": {},
   "outputs": [
    {
     "data": {
      "text/html": [
       "<table>\n",
       "<thead><tr><th scope=col>depart</th><th scope=col>arr_time</th></tr></thead>\n",
       "<tbody>\n",
       "\t<tr><td> 800</td><td> 949</td></tr>\n",
       "\t<tr><td> 917</td><td>1052</td></tr>\n",
       "\t<tr><td>1240</td><td>1415</td></tr>\n",
       "\t<tr><td>1449</td><td>1651</td></tr>\n",
       "\t<tr><td>1743</td><td>1925</td></tr>\n",
       "\t<tr><td>1800</td><td>1945</td></tr>\n",
       "</tbody>\n",
       "</table>\n"
      ],
      "text/latex": [
       "\\begin{tabular}{r|ll}\n",
       " depart & arr\\_time\\\\\n",
       "\\hline\n",
       "\t  800 &  949\\\\\n",
       "\t  917 & 1052\\\\\n",
       "\t 1240 & 1415\\\\\n",
       "\t 1449 & 1651\\\\\n",
       "\t 1743 & 1925\\\\\n",
       "\t 1800 & 1945\\\\\n",
       "\\end{tabular}\n"
      ],
      "text/markdown": [
       "\n",
       "depart | arr_time | \n",
       "|---|---|---|---|---|---|\n",
       "|  800 |  949 | \n",
       "|  917 | 1052 | \n",
       "| 1240 | 1415 | \n",
       "| 1449 | 1651 | \n",
       "| 1743 | 1925 | \n",
       "| 1800 | 1945 | \n",
       "\n",
       "\n"
      ],
      "text/plain": [
       "  depart arr_time\n",
       "1  800    949    \n",
       "2  917   1052    \n",
       "3 1240   1415    \n",
       "4 1449   1651    \n",
       "5 1743   1925    \n",
       "6 1800   1945    "
      ]
     },
     "metadata": {},
     "output_type": "display_data"
    }
   ],
   "source": [
    "head(flights_md %>%\n",
    "    filter(month == 1 & day == 1 & origin == \"JFK\" &  dest == \"RDU\") %>%\n",
    "    select(dep_time, arr_time) %>%\n",
    "    rename(depart = dep_time))"
   ]
  },
  {
   "cell_type": "code",
   "execution_count": 80,
   "metadata": {},
   "outputs": [
    {
     "data": {
      "text/html": [
       "<ol class=list-inline>\n",
       "\t<li>1743</li>\n",
       "\t<li>1800</li>\n",
       "\t<li>1928</li>\n",
       "\t<li>2050</li>\n",
       "\t<li>2209</li>\n",
       "</ol>\n"
      ],
      "text/latex": [
       "\\begin{enumerate*}\n",
       "\\item 1743\n",
       "\\item 1800\n",
       "\\item 1928\n",
       "\\item 2050\n",
       "\\item 2209\n",
       "\\end{enumerate*}\n"
      ],
      "text/markdown": [
       "1. 1743\n",
       "2. 1800\n",
       "3. 1928\n",
       "4. 2050\n",
       "5. 2209\n",
       "\n",
       "\n"
      ],
      "text/plain": [
       "[1] 1743 1800 1928 2050 2209"
      ]
     },
     "metadata": {},
     "output_type": "display_data"
    }
   ],
   "source": [
    "flights_md %>%\n",
    "    filter(month == 1 & day == 1 & origin == \"JFK\" &  dest == \"RDU\") %>%\n",
    "    filter(dep_time > 1500) %>%\n",
    "    pull(dep_time)"
   ]
  },
  {
   "cell_type": "code",
   "execution_count": 81,
   "metadata": {},
   "outputs": [
    {
     "data": {
      "text/html": [
       "<ol class=list-inline>\n",
       "\t<li>800</li>\n",
       "\t<li>917</li>\n",
       "\t<li>1240</li>\n",
       "</ol>\n"
      ],
      "text/latex": [
       "\\begin{enumerate*}\n",
       "\\item 800\n",
       "\\item 917\n",
       "\\item 1240\n",
       "\\end{enumerate*}\n"
      ],
      "text/markdown": [
       "1. 800\n",
       "2. 917\n",
       "3. 1240\n",
       "\n",
       "\n"
      ],
      "text/plain": [
       "[1]  800  917 1240"
      ]
     },
     "metadata": {},
     "output_type": "display_data"
    }
   ],
   "source": [
    "flights_md %>%\n",
    "    filter(month == 1 & day == 1 & origin == \"JFK\" &  dest == \"RDU\") %>%\n",
    "    slice(1:3) %>%\n",
    "    pull(dep_time)"
   ]
  },
  {
   "cell_type": "code",
   "execution_count": 83,
   "metadata": {},
   "outputs": [
    {
     "data": {
      "text/html": [
       "<ol class=list-inline>\n",
       "\t<li>917</li>\n",
       "\t<li>1240</li>\n",
       "\t<li>1449</li>\n",
       "\t<li>1743</li>\n",
       "\t<li>1800</li>\n",
       "\t<li>1928</li>\n",
       "\t<li>2050</li>\n",
       "\t<li>2209</li>\n",
       "</ol>\n"
      ],
      "text/latex": [
       "\\begin{enumerate*}\n",
       "\\item 917\n",
       "\\item 1240\n",
       "\\item 1449\n",
       "\\item 1743\n",
       "\\item 1800\n",
       "\\item 1928\n",
       "\\item 2050\n",
       "\\item 2209\n",
       "\\end{enumerate*}\n"
      ],
      "text/markdown": [
       "1. 917\n",
       "2. 1240\n",
       "3. 1449\n",
       "4. 1743\n",
       "5. 1800\n",
       "6. 1928\n",
       "7. 2050\n",
       "8. 2209\n",
       "\n",
       "\n"
      ],
      "text/plain": [
       "[1]  917 1240 1449 1743 1800 1928 2050 2209"
      ]
     },
     "metadata": {},
     "output_type": "display_data"
    }
   ],
   "source": [
    "flights_md %>%\n",
    "    filter(month == 1 & day == 1 & origin == \"JFK\" &  dest == \"RDU\") %>%\n",
    "    slice(2:n()) %>%\n",
    "    pull(dep_time)"
   ]
  },
  {
   "cell_type": "markdown",
   "metadata": {},
   "source": [
    "### (group) by"
   ]
  },
  {
   "cell_type": "code",
   "execution_count": 96,
   "metadata": {},
   "outputs": [
    {
     "data": {
      "text/html": [
       "<table>\n",
       "<thead><tr><th scope=col>dest</th><th scope=col>mean</th><th scope=col>sd</th></tr></thead>\n",
       "<tbody>\n",
       "\t<tr><td>ABQ      </td><td>249.16929</td><td>19.291371</td></tr>\n",
       "\t<tr><td>ACK      </td><td> 42.06818</td><td> 8.127495</td></tr>\n",
       "\t<tr><td>ATL      </td><td>112.04271</td><td> 9.901613</td></tr>\n",
       "\t<tr><td>AUS      </td><td>213.70220</td><td>18.370247</td></tr>\n",
       "\t<tr><td>BHM      </td><td>117.00000</td><td>       NA</td></tr>\n",
       "\t<tr><td>BNA      </td><td>117.07493</td><td>11.259506</td></tr>\n",
       "</tbody>\n",
       "</table>\n"
      ],
      "text/latex": [
       "\\begin{tabular}{r|lll}\n",
       " dest & mean & sd\\\\\n",
       "\\hline\n",
       "\t ABQ       & 249.16929 & 19.291371\\\\\n",
       "\t ACK       &  42.06818 &  8.127495\\\\\n",
       "\t ATL       & 112.04271 &  9.901613\\\\\n",
       "\t AUS       & 213.70220 & 18.370247\\\\\n",
       "\t BHM       & 117.00000 &        NA\\\\\n",
       "\t BNA       & 117.07493 & 11.259506\\\\\n",
       "\\end{tabular}\n"
      ],
      "text/markdown": [
       "\n",
       "dest | mean | sd | \n",
       "|---|---|---|---|---|---|\n",
       "| ABQ       | 249.16929 | 19.291371 | \n",
       "| ACK       |  42.06818 |  8.127495 | \n",
       "| ATL       | 112.04271 |  9.901613 | \n",
       "| AUS       | 213.70220 | 18.370247 | \n",
       "| BHM       | 117.00000 |        NA | \n",
       "| BNA       | 117.07493 | 11.259506 | \n",
       "\n",
       "\n"
      ],
      "text/plain": [
       "  dest mean      sd       \n",
       "1 ABQ  249.16929 19.291371\n",
       "2 ACK   42.06818  8.127495\n",
       "3 ATL  112.04271  9.901613\n",
       "4 AUS  213.70220 18.370247\n",
       "5 BHM  117.00000        NA\n",
       "6 BNA  117.07493 11.259506"
      ]
     },
     "metadata": {},
     "output_type": "display_data"
    }
   ],
   "source": [
    "head(\n",
    "    flights_md %>%\n",
    "        filter(origin == \"JFK\" & !is.na(air_time)) %>%\n",
    "        group_by(dest) %>%\n",
    "        summarise(mean = mean(air_time), sd = sd(air_time)))"
   ]
  },
  {
   "cell_type": "code",
   "execution_count": 97,
   "metadata": {},
   "outputs": [
    {
     "data": {
      "text/html": [
       "<strong>A tibble:</strong> '1 x 19'"
      ],
      "text/latex": [
       "\\textbf{A tibble:} '1 x 19'"
      ],
      "text/markdown": [
       "**A tibble:** '1 x 19'"
      ],
      "text/plain": [
       "A tibble \n",
       "\"1 x 19\" "
      ]
     },
     "metadata": {},
     "output_type": "display_data"
    }
   ],
   "source": [
    "tbl_sum(filter(flights_md, dest == \"BHM\" & origin == \"JFK\"))"
   ]
  },
  {
   "cell_type": "code",
   "execution_count": 99,
   "metadata": {},
   "outputs": [],
   "source": [
    "nbrflight <-\n",
    "    flights_md %>%\n",
    "        filter(origin == \"JFK\" & !is.na(dep_time)) %>%\n",
    "        group_by(dest, month) %>%\n",
    "        count()"
   ]
  },
  {
   "cell_type": "code",
   "execution_count": 100,
   "metadata": {},
   "outputs": [
    {
     "data": {
      "text/html": [
       "<table>\n",
       "<thead><tr><th scope=col>dest</th><th scope=col>month</th><th scope=col>n</th></tr></thead>\n",
       "<tbody>\n",
       "\t<tr><td>ABQ</td><td>4  </td><td> 9 </td></tr>\n",
       "\t<tr><td>ABQ</td><td>5  </td><td>31 </td></tr>\n",
       "\t<tr><td>ABQ</td><td>6  </td><td>30 </td></tr>\n",
       "\t<tr><td>ABQ</td><td>7  </td><td>31 </td></tr>\n",
       "\t<tr><td>ABQ</td><td>8  </td><td>31 </td></tr>\n",
       "\t<tr><td>ABQ</td><td>9  </td><td>30 </td></tr>\n",
       "</tbody>\n",
       "</table>\n"
      ],
      "text/latex": [
       "\\begin{tabular}{r|lll}\n",
       " dest & month & n\\\\\n",
       "\\hline\n",
       "\t ABQ & 4   &  9 \\\\\n",
       "\t ABQ & 5   & 31 \\\\\n",
       "\t ABQ & 6   & 30 \\\\\n",
       "\t ABQ & 7   & 31 \\\\\n",
       "\t ABQ & 8   & 31 \\\\\n",
       "\t ABQ & 9   & 30 \\\\\n",
       "\\end{tabular}\n"
      ],
      "text/markdown": [
       "\n",
       "dest | month | n | \n",
       "|---|---|---|---|---|---|\n",
       "| ABQ | 4   |  9  | \n",
       "| ABQ | 5   | 31  | \n",
       "| ABQ | 6   | 30  | \n",
       "| ABQ | 7   | 31  | \n",
       "| ABQ | 8   | 31  | \n",
       "| ABQ | 9   | 30  | \n",
       "\n",
       "\n"
      ],
      "text/plain": [
       "  dest month n \n",
       "1 ABQ  4      9\n",
       "2 ABQ  5     31\n",
       "3 ABQ  6     30\n",
       "4 ABQ  7     31\n",
       "5 ABQ  8     31\n",
       "6 ABQ  9     30"
      ]
     },
     "metadata": {},
     "output_type": "display_data"
    }
   ],
   "source": [
    "head(nbrflight)"
   ]
  },
  {
   "cell_type": "markdown",
   "metadata": {},
   "source": [
    "### long <<>> wide"
   ]
  },
  {
   "cell_type": "code",
   "execution_count": 107,
   "metadata": {},
   "outputs": [
    {
     "data": {
      "text/html": [
       "<dl class=dl-horizontal>\n",
       "\t<dt>A tibble</dt>\n",
       "\t\t<dd>'748 x 3'</dd>\n",
       "\t<dt>Groups</dt>\n",
       "\t\t<dd>'dest, month [748]'</dd>\n",
       "</dl>\n"
      ],
      "text/latex": [
       "\\begin{description*}\n",
       "\\item[A tibble] '748 x 3'\n",
       "\\item[Groups] 'dest, month {[}748{]}'\n",
       "\\end{description*}\n"
      ],
      "text/markdown": [
       "A tibble\n",
       ":   '748 x 3'Groups\n",
       ":   'dest, month [748]'\n",
       "\n"
      ],
      "text/plain": [
       "           A tibble              Groups \n",
       "          \"748 x 3\" \"dest, month [748]\" "
      ]
     },
     "metadata": {},
     "output_type": "display_data"
    }
   ],
   "source": [
    "tbl_sum(nbrflight)"
   ]
  },
  {
   "cell_type": "code",
   "execution_count": 108,
   "metadata": {},
   "outputs": [
    {
     "data": {
      "text/html": [
       "<ol class=list-inline>\n",
       "\t<li>'ABQ'</li>\n",
       "\t<li>'ACK'</li>\n",
       "\t<li>'ATL'</li>\n",
       "\t<li>'AUS'</li>\n",
       "\t<li>'BHM'</li>\n",
       "\t<li>'BNA'</li>\n",
       "\t<li>'BOS'</li>\n",
       "\t<li>'BQN'</li>\n",
       "\t<li>'BTV'</li>\n",
       "\t<li>'BUF'</li>\n",
       "\t<li>'BUR'</li>\n",
       "\t<li>'BWI'</li>\n",
       "\t<li>'CHS'</li>\n",
       "\t<li>'CLE'</li>\n",
       "\t<li>'CLT'</li>\n",
       "\t<li>'CMH'</li>\n",
       "\t<li>'CVG'</li>\n",
       "\t<li>'DCA'</li>\n",
       "\t<li>'DEN'</li>\n",
       "\t<li>'DFW'</li>\n",
       "\t<li>'DTW'</li>\n",
       "\t<li>'EGE'</li>\n",
       "\t<li>'FLL'</li>\n",
       "\t<li>'HNL'</li>\n",
       "\t<li>'HOU'</li>\n",
       "\t<li>'IAD'</li>\n",
       "\t<li>'IAH'</li>\n",
       "\t<li>'IND'</li>\n",
       "\t<li>'JAC'</li>\n",
       "\t<li>'JAX'</li>\n",
       "\t<li>'LAS'</li>\n",
       "\t<li>'LAX'</li>\n",
       "\t<li>'LGB'</li>\n",
       "\t<li>'MCI'</li>\n",
       "\t<li>'MCO'</li>\n",
       "\t<li>'MEM'</li>\n",
       "\t<li>'MIA'</li>\n",
       "\t<li>'MKE'</li>\n",
       "\t<li>'MSP'</li>\n",
       "\t<li>'MSY'</li>\n",
       "\t<li>'MVY'</li>\n",
       "\t<li>'OAK'</li>\n",
       "\t<li>'ORD'</li>\n",
       "\t<li>'ORF'</li>\n",
       "\t<li>'PBI'</li>\n",
       "\t<li>'PDX'</li>\n",
       "\t<li>'PHL'</li>\n",
       "\t<li>'PHX'</li>\n",
       "\t<li>'PIT'</li>\n",
       "\t<li>'PSE'</li>\n",
       "\t<li>'PSP'</li>\n",
       "\t<li>'PWM'</li>\n",
       "\t<li>'RDU'</li>\n",
       "\t<li>'RIC'</li>\n",
       "\t<li>'ROC'</li>\n",
       "\t<li>'RSW'</li>\n",
       "\t<li>'SAN'</li>\n",
       "\t<li>'SAT'</li>\n",
       "\t<li>'SDF'</li>\n",
       "\t<li>'SEA'</li>\n",
       "\t<li>'SFO'</li>\n",
       "\t<li>'SJC'</li>\n",
       "\t<li>'SJU'</li>\n",
       "\t<li>'SLC'</li>\n",
       "\t<li>'SMF'</li>\n",
       "\t<li>'SRQ'</li>\n",
       "\t<li>'STL'</li>\n",
       "\t<li>'STT'</li>\n",
       "\t<li>'SYR'</li>\n",
       "\t<li>'TPA'</li>\n",
       "</ol>\n"
      ],
      "text/latex": [
       "\\begin{enumerate*}\n",
       "\\item 'ABQ'\n",
       "\\item 'ACK'\n",
       "\\item 'ATL'\n",
       "\\item 'AUS'\n",
       "\\item 'BHM'\n",
       "\\item 'BNA'\n",
       "\\item 'BOS'\n",
       "\\item 'BQN'\n",
       "\\item 'BTV'\n",
       "\\item 'BUF'\n",
       "\\item 'BUR'\n",
       "\\item 'BWI'\n",
       "\\item 'CHS'\n",
       "\\item 'CLE'\n",
       "\\item 'CLT'\n",
       "\\item 'CMH'\n",
       "\\item 'CVG'\n",
       "\\item 'DCA'\n",
       "\\item 'DEN'\n",
       "\\item 'DFW'\n",
       "\\item 'DTW'\n",
       "\\item 'EGE'\n",
       "\\item 'FLL'\n",
       "\\item 'HNL'\n",
       "\\item 'HOU'\n",
       "\\item 'IAD'\n",
       "\\item 'IAH'\n",
       "\\item 'IND'\n",
       "\\item 'JAC'\n",
       "\\item 'JAX'\n",
       "\\item 'LAS'\n",
       "\\item 'LAX'\n",
       "\\item 'LGB'\n",
       "\\item 'MCI'\n",
       "\\item 'MCO'\n",
       "\\item 'MEM'\n",
       "\\item 'MIA'\n",
       "\\item 'MKE'\n",
       "\\item 'MSP'\n",
       "\\item 'MSY'\n",
       "\\item 'MVY'\n",
       "\\item 'OAK'\n",
       "\\item 'ORD'\n",
       "\\item 'ORF'\n",
       "\\item 'PBI'\n",
       "\\item 'PDX'\n",
       "\\item 'PHL'\n",
       "\\item 'PHX'\n",
       "\\item 'PIT'\n",
       "\\item 'PSE'\n",
       "\\item 'PSP'\n",
       "\\item 'PWM'\n",
       "\\item 'RDU'\n",
       "\\item 'RIC'\n",
       "\\item 'ROC'\n",
       "\\item 'RSW'\n",
       "\\item 'SAN'\n",
       "\\item 'SAT'\n",
       "\\item 'SDF'\n",
       "\\item 'SEA'\n",
       "\\item 'SFO'\n",
       "\\item 'SJC'\n",
       "\\item 'SJU'\n",
       "\\item 'SLC'\n",
       "\\item 'SMF'\n",
       "\\item 'SRQ'\n",
       "\\item 'STL'\n",
       "\\item 'STT'\n",
       "\\item 'SYR'\n",
       "\\item 'TPA'\n",
       "\\end{enumerate*}\n"
      ],
      "text/markdown": [
       "1. 'ABQ'\n",
       "2. 'ACK'\n",
       "3. 'ATL'\n",
       "4. 'AUS'\n",
       "5. 'BHM'\n",
       "6. 'BNA'\n",
       "7. 'BOS'\n",
       "8. 'BQN'\n",
       "9. 'BTV'\n",
       "10. 'BUF'\n",
       "11. 'BUR'\n",
       "12. 'BWI'\n",
       "13. 'CHS'\n",
       "14. 'CLE'\n",
       "15. 'CLT'\n",
       "16. 'CMH'\n",
       "17. 'CVG'\n",
       "18. 'DCA'\n",
       "19. 'DEN'\n",
       "20. 'DFW'\n",
       "21. 'DTW'\n",
       "22. 'EGE'\n",
       "23. 'FLL'\n",
       "24. 'HNL'\n",
       "25. 'HOU'\n",
       "26. 'IAD'\n",
       "27. 'IAH'\n",
       "28. 'IND'\n",
       "29. 'JAC'\n",
       "30. 'JAX'\n",
       "31. 'LAS'\n",
       "32. 'LAX'\n",
       "33. 'LGB'\n",
       "34. 'MCI'\n",
       "35. 'MCO'\n",
       "36. 'MEM'\n",
       "37. 'MIA'\n",
       "38. 'MKE'\n",
       "39. 'MSP'\n",
       "40. 'MSY'\n",
       "41. 'MVY'\n",
       "42. 'OAK'\n",
       "43. 'ORD'\n",
       "44. 'ORF'\n",
       "45. 'PBI'\n",
       "46. 'PDX'\n",
       "47. 'PHL'\n",
       "48. 'PHX'\n",
       "49. 'PIT'\n",
       "50. 'PSE'\n",
       "51. 'PSP'\n",
       "52. 'PWM'\n",
       "53. 'RDU'\n",
       "54. 'RIC'\n",
       "55. 'ROC'\n",
       "56. 'RSW'\n",
       "57. 'SAN'\n",
       "58. 'SAT'\n",
       "59. 'SDF'\n",
       "60. 'SEA'\n",
       "61. 'SFO'\n",
       "62. 'SJC'\n",
       "63. 'SJU'\n",
       "64. 'SLC'\n",
       "65. 'SMF'\n",
       "66. 'SRQ'\n",
       "67. 'STL'\n",
       "68. 'STT'\n",
       "69. 'SYR'\n",
       "70. 'TPA'\n",
       "\n",
       "\n"
      ],
      "text/plain": [
       " [1] \"ABQ\" \"ACK\" \"ATL\" \"AUS\" \"BHM\" \"BNA\" \"BOS\" \"BQN\" \"BTV\" \"BUF\" \"BUR\" \"BWI\"\n",
       "[13] \"CHS\" \"CLE\" \"CLT\" \"CMH\" \"CVG\" \"DCA\" \"DEN\" \"DFW\" \"DTW\" \"EGE\" \"FLL\" \"HNL\"\n",
       "[25] \"HOU\" \"IAD\" \"IAH\" \"IND\" \"JAC\" \"JAX\" \"LAS\" \"LAX\" \"LGB\" \"MCI\" \"MCO\" \"MEM\"\n",
       "[37] \"MIA\" \"MKE\" \"MSP\" \"MSY\" \"MVY\" \"OAK\" \"ORD\" \"ORF\" \"PBI\" \"PDX\" \"PHL\" \"PHX\"\n",
       "[49] \"PIT\" \"PSE\" \"PSP\" \"PWM\" \"RDU\" \"RIC\" \"ROC\" \"RSW\" \"SAN\" \"SAT\" \"SDF\" \"SEA\"\n",
       "[61] \"SFO\" \"SJC\" \"SJU\" \"SLC\" \"SMF\" \"SRQ\" \"STL\" \"STT\" \"SYR\" \"TPA\""
      ]
     },
     "metadata": {},
     "output_type": "display_data"
    }
   ],
   "source": [
    "unique(pull(nbrflight, dest))"
   ]
  },
  {
   "cell_type": "code",
   "execution_count": 109,
   "metadata": {},
   "outputs": [
    {
     "data": {
      "text/html": [
       "<table>\n",
       "<thead><tr><th scope=col>month</th><th scope=col>ABQ</th><th scope=col>ACK</th><th scope=col>ATL</th><th scope=col>AUS</th><th scope=col>BHM</th><th scope=col>BNA</th><th scope=col>BOS</th><th scope=col>BQN</th><th scope=col>BTV</th><th scope=col>⋯</th><th scope=col>SFO</th><th scope=col>SJC</th><th scope=col>SJU</th><th scope=col>SLC</th><th scope=col>SMF</th><th scope=col>SRQ</th><th scope=col>STL</th><th scope=col>STT</th><th scope=col>SYR</th><th scope=col>TPA</th></tr></thead>\n",
       "<tbody>\n",
       "\t<tr><td> 1 </td><td>NA </td><td>NA </td><td>155</td><td>118</td><td>NA </td><td>60 </td><td>478</td><td>62 </td><td>123</td><td>⋯  </td><td>670</td><td>20 </td><td>411</td><td>166</td><td>20 </td><td>54 </td><td>NA </td><td>34 </td><td>109</td><td>214</td></tr>\n",
       "\t<tr><td> 2 </td><td>NA </td><td>NA </td><td>137</td><td>103</td><td>NA </td><td>51 </td><td>417</td><td>54 </td><td>101</td><td>⋯  </td><td>574</td><td>14 </td><td>368</td><td>151</td><td>14 </td><td>51 </td><td>NA </td><td>30 </td><td>101</td><td>196</td></tr>\n",
       "\t<tr><td> 3 </td><td>NA </td><td>NA </td><td>155</td><td>144</td><td>NA </td><td>57 </td><td>482</td><td>62 </td><td>116</td><td>⋯  </td><td>661</td><td>21 </td><td>426</td><td>191</td><td>21 </td><td>62 </td><td>NA </td><td>36 </td><td> 94</td><td>246</td></tr>\n",
       "\t<tr><td> 4 </td><td> 9 </td><td>NA </td><td>151</td><td>120</td><td>NA </td><td>57 </td><td>474</td><td>37 </td><td> 87</td><td>⋯  </td><td>657</td><td>30 </td><td>377</td><td>181</td><td>25 </td><td>60 </td><td>NA </td><td>34 </td><td> 88</td><td>236</td></tr>\n",
       "\t<tr><td> 5 </td><td>31 </td><td>21 </td><td>155</td><td>124</td><td> 1 </td><td>60 </td><td>488</td><td>33 </td><td>116</td><td>⋯  </td><td>694</td><td>31 </td><td>350</td><td>183</td><td>26 </td><td>31 </td><td>NA </td><td>31 </td><td>120</td><td>235</td></tr>\n",
       "\t<tr><td> 6 </td><td>30 </td><td>43 </td><td>171</td><td>120</td><td>NA </td><td>57 </td><td>492</td><td>59 </td><td>118</td><td>⋯  </td><td>683</td><td>30 </td><td>391</td><td>181</td><td>30 </td><td>30 </td><td>NA </td><td>30 </td><td>114</td><td>243</td></tr>\n",
       "\t<tr><td> 7 </td><td>31 </td><td>66 </td><td>186</td><td>124</td><td>NA </td><td>58 </td><td>511</td><td>62 </td><td>124</td><td>⋯  </td><td>687</td><td>31 </td><td>463</td><td>185</td><td>31 </td><td>31 </td><td>NA </td><td>31 </td><td>122</td><td>272</td></tr>\n",
       "\t<tr><td> 8 </td><td>31 </td><td>67 </td><td>187</td><td>123</td><td>NA </td><td>59 </td><td>519</td><td>62 </td><td>124</td><td>⋯  </td><td>723</td><td>31 </td><td>448</td><td>185</td><td>31 </td><td>31 </td><td>NA </td><td>27 </td><td>125</td><td>278</td></tr>\n",
       "\t<tr><td> 9 </td><td>30 </td><td>45 </td><td>155</td><td>120</td><td>NA </td><td>58 </td><td>473</td><td>32 </td><td>119</td><td>⋯  </td><td>699</td><td>30 </td><td>336</td><td>175</td><td>23 </td><td>30 </td><td>NA </td><td> 9 </td><td>109</td><td>241</td></tr>\n",
       "\t<tr><td>10 </td><td>31 </td><td>23 </td><td>166</td><td>124</td><td>NA </td><td>59 </td><td>494</td><td>31 </td><td>119</td><td>⋯  </td><td>725</td><td>31 </td><td>346</td><td>177</td><td>20 </td><td>31 </td><td>NA </td><td> 8 </td><td>107</td><td>249</td></tr>\n",
       "\t<tr><td>11 </td><td>30 </td><td>NA </td><td>151</td><td>121</td><td>NA </td><td>59 </td><td>480</td><td>39 </td><td> 99</td><td>⋯  </td><td>672</td><td>31 </td><td>369</td><td>165</td><td>17 </td><td>30 </td><td> 1 </td><td>16 </td><td> 93</td><td>268</td></tr>\n",
       "\t<tr><td>12 </td><td>31 </td><td>NA </td><td>156</td><td>118</td><td>NA </td><td>61 </td><td>478</td><td>62 </td><td>103</td><td>⋯  </td><td>693</td><td>28 </td><td>442</td><td>166</td><td>24 </td><td>31 </td><td>NA </td><td>44 </td><td>112</td><td>278</td></tr>\n",
       "</tbody>\n",
       "</table>\n"
      ],
      "text/latex": [
       "\\begin{tabular}{r|lllllllllllllllllllllllllllllllllllllllllllllllllllllllllllllllllllllll}\n",
       " month & ABQ & ACK & ATL & AUS & BHM & BNA & BOS & BQN & BTV & ⋯ & SFO & SJC & SJU & SLC & SMF & SRQ & STL & STT & SYR & TPA\\\\\n",
       "\\hline\n",
       "\t  1  & NA  & NA  & 155 & 118 & NA  & 60  & 478 & 62  & 123 & ⋯   & 670 & 20  & 411 & 166 & 20  & 54  & NA  & 34  & 109 & 214\\\\\n",
       "\t  2  & NA  & NA  & 137 & 103 & NA  & 51  & 417 & 54  & 101 & ⋯   & 574 & 14  & 368 & 151 & 14  & 51  & NA  & 30  & 101 & 196\\\\\n",
       "\t  3  & NA  & NA  & 155 & 144 & NA  & 57  & 482 & 62  & 116 & ⋯   & 661 & 21  & 426 & 191 & 21  & 62  & NA  & 36  &  94 & 246\\\\\n",
       "\t  4  &  9  & NA  & 151 & 120 & NA  & 57  & 474 & 37  &  87 & ⋯   & 657 & 30  & 377 & 181 & 25  & 60  & NA  & 34  &  88 & 236\\\\\n",
       "\t  5  & 31  & 21  & 155 & 124 &  1  & 60  & 488 & 33  & 116 & ⋯   & 694 & 31  & 350 & 183 & 26  & 31  & NA  & 31  & 120 & 235\\\\\n",
       "\t  6  & 30  & 43  & 171 & 120 & NA  & 57  & 492 & 59  & 118 & ⋯   & 683 & 30  & 391 & 181 & 30  & 30  & NA  & 30  & 114 & 243\\\\\n",
       "\t  7  & 31  & 66  & 186 & 124 & NA  & 58  & 511 & 62  & 124 & ⋯   & 687 & 31  & 463 & 185 & 31  & 31  & NA  & 31  & 122 & 272\\\\\n",
       "\t  8  & 31  & 67  & 187 & 123 & NA  & 59  & 519 & 62  & 124 & ⋯   & 723 & 31  & 448 & 185 & 31  & 31  & NA  & 27  & 125 & 278\\\\\n",
       "\t  9  & 30  & 45  & 155 & 120 & NA  & 58  & 473 & 32  & 119 & ⋯   & 699 & 30  & 336 & 175 & 23  & 30  & NA  &  9  & 109 & 241\\\\\n",
       "\t 10  & 31  & 23  & 166 & 124 & NA  & 59  & 494 & 31  & 119 & ⋯   & 725 & 31  & 346 & 177 & 20  & 31  & NA  &  8  & 107 & 249\\\\\n",
       "\t 11  & 30  & NA  & 151 & 121 & NA  & 59  & 480 & 39  &  99 & ⋯   & 672 & 31  & 369 & 165 & 17  & 30  &  1  & 16  &  93 & 268\\\\\n",
       "\t 12  & 31  & NA  & 156 & 118 & NA  & 61  & 478 & 62  & 103 & ⋯   & 693 & 28  & 442 & 166 & 24  & 31  & NA  & 44  & 112 & 278\\\\\n",
       "\\end{tabular}\n"
      ],
      "text/markdown": [
       "\n",
       "month | ABQ | ACK | ATL | AUS | BHM | BNA | BOS | BQN | BTV | ⋯ | SFO | SJC | SJU | SLC | SMF | SRQ | STL | STT | SYR | TPA | \n",
       "|---|---|---|---|---|---|---|---|---|---|---|---|\n",
       "|  1  | NA  | NA  | 155 | 118 | NA  | 60  | 478 | 62  | 123 | ⋯   | 670 | 20  | 411 | 166 | 20  | 54  | NA  | 34  | 109 | 214 | \n",
       "|  2  | NA  | NA  | 137 | 103 | NA  | 51  | 417 | 54  | 101 | ⋯   | 574 | 14  | 368 | 151 | 14  | 51  | NA  | 30  | 101 | 196 | \n",
       "|  3  | NA  | NA  | 155 | 144 | NA  | 57  | 482 | 62  | 116 | ⋯   | 661 | 21  | 426 | 191 | 21  | 62  | NA  | 36  |  94 | 246 | \n",
       "|  4  |  9  | NA  | 151 | 120 | NA  | 57  | 474 | 37  |  87 | ⋯   | 657 | 30  | 377 | 181 | 25  | 60  | NA  | 34  |  88 | 236 | \n",
       "|  5  | 31  | 21  | 155 | 124 |  1  | 60  | 488 | 33  | 116 | ⋯   | 694 | 31  | 350 | 183 | 26  | 31  | NA  | 31  | 120 | 235 | \n",
       "|  6  | 30  | 43  | 171 | 120 | NA  | 57  | 492 | 59  | 118 | ⋯   | 683 | 30  | 391 | 181 | 30  | 30  | NA  | 30  | 114 | 243 | \n",
       "|  7  | 31  | 66  | 186 | 124 | NA  | 58  | 511 | 62  | 124 | ⋯   | 687 | 31  | 463 | 185 | 31  | 31  | NA  | 31  | 122 | 272 | \n",
       "|  8  | 31  | 67  | 187 | 123 | NA  | 59  | 519 | 62  | 124 | ⋯   | 723 | 31  | 448 | 185 | 31  | 31  | NA  | 27  | 125 | 278 | \n",
       "|  9  | 30  | 45  | 155 | 120 | NA  | 58  | 473 | 32  | 119 | ⋯   | 699 | 30  | 336 | 175 | 23  | 30  | NA  |  9  | 109 | 241 | \n",
       "| 10  | 31  | 23  | 166 | 124 | NA  | 59  | 494 | 31  | 119 | ⋯   | 725 | 31  | 346 | 177 | 20  | 31  | NA  |  8  | 107 | 249 | \n",
       "| 11  | 30  | NA  | 151 | 121 | NA  | 59  | 480 | 39  |  99 | ⋯   | 672 | 31  | 369 | 165 | 17  | 30  |  1  | 16  |  93 | 268 | \n",
       "| 12  | 31  | NA  | 156 | 118 | NA  | 61  | 478 | 62  | 103 | ⋯   | 693 | 28  | 442 | 166 | 24  | 31  | NA  | 44  | 112 | 278 | \n",
       "\n",
       "\n"
      ],
      "text/plain": [
       "   month ABQ ACK ATL AUS BHM BNA BOS BQN BTV ⋯ SFO SJC SJU SLC SMF SRQ STL STT\n",
       "1   1    NA  NA  155 118 NA  60  478 62  123 ⋯ 670 20  411 166 20  54  NA  34 \n",
       "2   2    NA  NA  137 103 NA  51  417 54  101 ⋯ 574 14  368 151 14  51  NA  30 \n",
       "3   3    NA  NA  155 144 NA  57  482 62  116 ⋯ 661 21  426 191 21  62  NA  36 \n",
       "4   4     9  NA  151 120 NA  57  474 37   87 ⋯ 657 30  377 181 25  60  NA  34 \n",
       "5   5    31  21  155 124  1  60  488 33  116 ⋯ 694 31  350 183 26  31  NA  31 \n",
       "6   6    30  43  171 120 NA  57  492 59  118 ⋯ 683 30  391 181 30  30  NA  30 \n",
       "7   7    31  66  186 124 NA  58  511 62  124 ⋯ 687 31  463 185 31  31  NA  31 \n",
       "8   8    31  67  187 123 NA  59  519 62  124 ⋯ 723 31  448 185 31  31  NA  27 \n",
       "9   9    30  45  155 120 NA  58  473 32  119 ⋯ 699 30  336 175 23  30  NA   9 \n",
       "10 10    31  23  166 124 NA  59  494 31  119 ⋯ 725 31  346 177 20  31  NA   8 \n",
       "11 11    30  NA  151 121 NA  59  480 39   99 ⋯ 672 31  369 165 17  30   1  16 \n",
       "12 12    31  NA  156 118 NA  61  478 62  103 ⋯ 693 28  442 166 24  31  NA  44 \n",
       "   SYR TPA\n",
       "1  109 214\n",
       "2  101 196\n",
       "3   94 246\n",
       "4   88 236\n",
       "5  120 235\n",
       "6  114 243\n",
       "7  122 272\n",
       "8  125 278\n",
       "9  109 241\n",
       "10 107 249\n",
       "11  93 268\n",
       "12 112 278"
      ]
     },
     "metadata": {},
     "output_type": "display_data"
    }
   ],
   "source": [
    "wide <- spread(nbrflight, dest, n)\n",
    "wide"
   ]
  },
  {
   "cell_type": "code",
   "execution_count": 113,
   "metadata": {},
   "outputs": [
    {
     "data": {
      "text/html": [
       "<table>\n",
       "<thead><tr><th scope=col>month</th><th scope=col>dest</th><th scope=col>n</th></tr></thead>\n",
       "<tbody>\n",
       "\t<tr><td>1  </td><td>ABQ</td><td>NA </td></tr>\n",
       "\t<tr><td>2  </td><td>ABQ</td><td>NA </td></tr>\n",
       "\t<tr><td>3  </td><td>ABQ</td><td>NA </td></tr>\n",
       "\t<tr><td>4  </td><td>ABQ</td><td> 9 </td></tr>\n",
       "\t<tr><td>5  </td><td>ABQ</td><td>31 </td></tr>\n",
       "\t<tr><td>6  </td><td>ABQ</td><td>30 </td></tr>\n",
       "</tbody>\n",
       "</table>\n"
      ],
      "text/latex": [
       "\\begin{tabular}{r|lll}\n",
       " month & dest & n\\\\\n",
       "\\hline\n",
       "\t 1   & ABQ & NA \\\\\n",
       "\t 2   & ABQ & NA \\\\\n",
       "\t 3   & ABQ & NA \\\\\n",
       "\t 4   & ABQ &  9 \\\\\n",
       "\t 5   & ABQ & 31 \\\\\n",
       "\t 6   & ABQ & 30 \\\\\n",
       "\\end{tabular}\n"
      ],
      "text/markdown": [
       "\n",
       "month | dest | n | \n",
       "|---|---|---|---|---|---|\n",
       "| 1   | ABQ | NA  | \n",
       "| 2   | ABQ | NA  | \n",
       "| 3   | ABQ | NA  | \n",
       "| 4   | ABQ |  9  | \n",
       "| 5   | ABQ | 31  | \n",
       "| 6   | ABQ | 30  | \n",
       "\n",
       "\n"
      ],
      "text/plain": [
       "  month dest n \n",
       "1 1     ABQ  NA\n",
       "2 2     ABQ  NA\n",
       "3 3     ABQ  NA\n",
       "4 4     ABQ   9\n",
       "5 5     ABQ  31\n",
       "6 6     ABQ  30"
      ]
     },
     "metadata": {},
     "output_type": "display_data"
    }
   ],
   "source": [
    "long <- gather(wide, -month, key = \"dest\", value = \"n\")\n",
    "head(long)"
   ]
  },
  {
   "cell_type": "markdown",
   "metadata": {},
   "source": [
    "### [...]"
   ]
  },
  {
   "cell_type": "markdown",
   "metadata": {},
   "source": [
    "..."
   ]
  },
  {
   "cell_type": "markdown",
   "metadata": {},
   "source": [
    "### Challenge data.table!"
   ]
  },
  {
   "cell_type": "code",
   "execution_count": 126,
   "metadata": {},
   "outputs": [],
   "source": [
    "tbl1 = tibble(x = c(rep(1, 4), rep(2, 4)),\n",
    "              y = c(\"a\", \"a\", \"b\", \"b\", \"a\", \"a\", \"b\", \"b\"),\n",
    "              z = 1:8)"
   ]
  },
  {
   "cell_type": "code",
   "execution_count": 127,
   "metadata": {},
   "outputs": [],
   "source": [
    "tbl2 = tibble(x = 1:2, y = c(\"a\", \"b\"), mul = 4:3)"
   ]
  },
  {
   "cell_type": "code",
   "execution_count": 128,
   "metadata": {},
   "outputs": [
    {
     "data": {
      "text/html": [
       "<table>\n",
       "<thead><tr><th scope=col>x</th><th scope=col>y</th><th scope=col>z</th></tr></thead>\n",
       "<tbody>\n",
       "\t<tr><td>1</td><td>a</td><td>1</td></tr>\n",
       "\t<tr><td>1</td><td>a</td><td>2</td></tr>\n",
       "\t<tr><td>1</td><td>b</td><td>3</td></tr>\n",
       "\t<tr><td>1</td><td>b</td><td>4</td></tr>\n",
       "\t<tr><td>2</td><td>a</td><td>5</td></tr>\n",
       "\t<tr><td>2</td><td>a</td><td>6</td></tr>\n",
       "\t<tr><td>2</td><td>b</td><td>7</td></tr>\n",
       "\t<tr><td>2</td><td>b</td><td>8</td></tr>\n",
       "</tbody>\n",
       "</table>\n"
      ],
      "text/latex": [
       "\\begin{tabular}{r|lll}\n",
       " x & y & z\\\\\n",
       "\\hline\n",
       "\t 1 & a & 1\\\\\n",
       "\t 1 & a & 2\\\\\n",
       "\t 1 & b & 3\\\\\n",
       "\t 1 & b & 4\\\\\n",
       "\t 2 & a & 5\\\\\n",
       "\t 2 & a & 6\\\\\n",
       "\t 2 & b & 7\\\\\n",
       "\t 2 & b & 8\\\\\n",
       "\\end{tabular}\n"
      ],
      "text/markdown": [
       "\n",
       "x | y | z | \n",
       "|---|---|---|---|---|---|---|---|\n",
       "| 1 | a | 1 | \n",
       "| 1 | a | 2 | \n",
       "| 1 | b | 3 | \n",
       "| 1 | b | 4 | \n",
       "| 2 | a | 5 | \n",
       "| 2 | a | 6 | \n",
       "| 2 | b | 7 | \n",
       "| 2 | b | 8 | \n",
       "\n",
       "\n"
      ],
      "text/plain": [
       "  x y z\n",
       "1 1 a 1\n",
       "2 1 a 2\n",
       "3 1 b 3\n",
       "4 1 b 4\n",
       "5 2 a 5\n",
       "6 2 a 6\n",
       "7 2 b 7\n",
       "8 2 b 8"
      ]
     },
     "metadata": {},
     "output_type": "display_data"
    }
   ],
   "source": [
    "tbl1"
   ]
  },
  {
   "cell_type": "code",
   "execution_count": 129,
   "metadata": {},
   "outputs": [
    {
     "data": {
      "text/html": [
       "<table>\n",
       "<thead><tr><th scope=col>x</th><th scope=col>y</th><th scope=col>mul</th></tr></thead>\n",
       "<tbody>\n",
       "\t<tr><td>1</td><td>a</td><td>4</td></tr>\n",
       "\t<tr><td>2</td><td>b</td><td>3</td></tr>\n",
       "</tbody>\n",
       "</table>\n"
      ],
      "text/latex": [
       "\\begin{tabular}{r|lll}\n",
       " x & y & mul\\\\\n",
       "\\hline\n",
       "\t 1 & a & 4\\\\\n",
       "\t 2 & b & 3\\\\\n",
       "\\end{tabular}\n"
      ],
      "text/markdown": [
       "\n",
       "x | y | mul | \n",
       "|---|---|\n",
       "| 1 | a | 4 | \n",
       "| 2 | b | 3 | \n",
       "\n",
       "\n"
      ],
      "text/plain": [
       "  x y mul\n",
       "1 1 a 4  \n",
       "2 2 b 3  "
      ]
     },
     "metadata": {},
     "output_type": "display_data"
    }
   ],
   "source": [
    "tbl2"
   ]
  },
  {
   "cell_type": "code",
   "execution_count": 140,
   "metadata": {},
   "outputs": [
    {
     "data": {
      "text/html": [
       "<table>\n",
       "<thead><tr><th scope=col>x</th><th scope=col>y</th><th scope=col>sum_mul</th></tr></thead>\n",
       "<tbody>\n",
       "\t<tr><td>1 </td><td>a </td><td>12</td></tr>\n",
       "\t<tr><td>2 </td><td>b </td><td>45</td></tr>\n",
       "</tbody>\n",
       "</table>\n"
      ],
      "text/latex": [
       "\\begin{tabular}{r|lll}\n",
       " x & y & sum\\_mul\\\\\n",
       "\\hline\n",
       "\t 1  & a  & 12\\\\\n",
       "\t 2  & b  & 45\\\\\n",
       "\\end{tabular}\n"
      ],
      "text/markdown": [
       "\n",
       "x | y | sum_mul | \n",
       "|---|---|\n",
       "| 1  | a  | 12 | \n",
       "| 2  | b  | 45 | \n",
       "\n",
       "\n"
      ],
      "text/plain": [
       "  x y sum_mul\n",
       "1 1 a 12     \n",
       "2 2 b 45     "
      ]
     },
     "metadata": {},
     "output_type": "display_data"
    }
   ],
   "source": [
    "tbl1 %>%\n",
    "    group_by(x, y) %>%\n",
    "    summarise(sum_z = sum(z)) %>%\n",
    "    inner_join(tbl2, by = c(\"x\", \"y\")) %>%\n",
    "    mutate(sum_mul = sum_z * mul) %>%\n",
    "    select(x, y, sum_mul)"
   ]
  },
  {
   "cell_type": "code",
   "execution_count": null,
   "metadata": {},
   "outputs": [],
   "source": []
  }
 ],
 "metadata": {
  "kernelspec": {
   "display_name": "R",
   "language": "R",
   "name": "ir"
  },
  "language_info": {
   "codemirror_mode": "r",
   "file_extension": ".r",
   "mimetype": "text/x-r-source",
   "name": "R",
   "pygments_lexer": "r",
   "version": "3.4.3"
  }
 },
 "nbformat": 4,
 "nbformat_minor": 2
}
